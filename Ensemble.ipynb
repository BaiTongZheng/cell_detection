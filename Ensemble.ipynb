{
 "cells": [
  {
   "cell_type": "code",
   "execution_count": 1,
   "metadata": {},
   "outputs": [],
   "source": [
    "import pandas as pd\n",
    "import numpy as np"
   ]
  },
  {
   "cell_type": "code",
   "execution_count": 2,
   "metadata": {},
   "outputs": [],
   "source": [
    "path = '/home/baitong/pywork/cellDetection/sub/'\n",
    "path2 = '/home/baitong/pywork/cellDetection/sub2/'"
   ]
  },
  {
   "cell_type": "code",
   "execution_count": 3,
   "metadata": {},
   "outputs": [
    {
     "name": "stdout",
     "output_type": "stream",
     "text": [
      "CPU times: user 75 ms, sys: 220 µs, total: 75.2 ms\n",
      "Wall time: 106 ms\n"
     ]
    }
   ],
   "source": [
    "%%time\n",
    "# sub_resnet34_256 = pd.read_csv(path+'protein_classification_c.csv',low_memory=False)##0.453\n",
    "sub_resnet34_512 = pd.read_csv(path+'protein_classification512.csv',low_memory=False)##0.470\n",
    "\n",
    "sub_resnet34_all = pd.read_csv(path2+'ResNet34_allprotein_classification_05.csv',low_memory=False)##0.480\n",
    "\n",
    "sub_resnet50_512 = pd.read_csv(path+'resnet50_512protein_classification_05.csv',low_memory=False)##0.477\n",
    "sub_wrn_512      = pd.read_csv(path+'wrnprotein_classification_05.csv',low_memory=False)##0.483\n",
    "sub_resnext50_512= pd.read_csv(path+'resnext50protein_classification.csv',low_memory=False)##0.484\n",
    "sub_resnet101_512= pd.read_csv(path+'resnet101protein_classification.csv',low_memory=False)##0.486\n",
    "# weak_ensem = pd.read_csv(path+'weak_ensem.csv',low_memory=False)##0.488"
   ]
  },
  {
   "cell_type": "code",
   "execution_count": 4,
   "metadata": {},
   "outputs": [],
   "source": [
    "df_list = [sub_resnet34_512,sub_resnet50_512,sub_wrn_512,sub_resnet101_512,sub_resnet34_all,sub_resnext50_512]\n",
    "# score_list = [0.453,0.470,0.477,0.483,0.484,0.486]\n",
    "# score_sum = 0\n",
    "# for s in score_list:\n",
    "#     score_sum += s"
   ]
  },
  {
   "cell_type": "code",
   "execution_count": 5,
   "metadata": {},
   "outputs": [],
   "source": [
    "# sub_resnet34_256.head()"
   ]
  },
  {
   "cell_type": "code",
   "execution_count": 6,
   "metadata": {},
   "outputs": [],
   "source": [
    "name_label_dict = {\n",
    " 'Nucleoplasm' :0,\n",
    " 'Nuclear membrane':1,\n",
    " 'Nucleoli':2,   \n",
    " 'Nucleoli fibrillar center':3,\n",
    " 'Nuclear speckles':4,\n",
    " 'Nuclear bodies':5,\n",
    " 'Endoplasmic reticulum':6,  \n",
    " 'Golgi apparatus':7,\n",
    " 'Peroxisomes':8,\n",
    " 'Endosomes'   :9,              \n",
    "  'Lysosomes'  :10,                         \n",
    "  'Intermediate filaments':11,\n",
    "  'Actin filaments':12,\n",
    "  'Focal adhesion sites' :13,  \n",
    "  'Microtubules':14,\n",
    "  'Microtubule ends'  :15,\n",
    "  'Cytokinetic bridge'   :16,\n",
    "  'Mitotic spindle':17,\n",
    "  'Microtubule organizing center'  :18,\n",
    "  'Centrosome':19,\n",
    "  'Lipid droplets':20,\n",
    "  'Plasma membrane':21,\n",
    "  'Cell junctions' :22,\n",
    "  'Mitochondria':23,\n",
    "  'Aggresome':24,\n",
    "  'Cytosol':25,\n",
    "  'Cytoplasmic bodies' :26,  \n",
    "  'Rods & rings':27 }\n",
    "def strToIntArr(str_):\n",
    "    num_arr = []\n",
    "    if type(str_) != str:\n",
    "        num_arr.append(str_)\n",
    "    else:    \n",
    "        str_arr = str_.split()\n",
    "        for s in str_arr:\n",
    "            num_arr.append(int(s))\n",
    "    return num_arr\n",
    "for df in df_list:\n",
    "    df['Predicted'] = df['Predicted'].apply(strToIntArr)\n",
    "features = ['Nucleoplasm','Nuclear membrane','Nucleoli',   'Nucleoli fibrillar center',\n",
    "    'Nuclear speckles','Nuclear bodies','Endoplasmic reticulum','Golgi apparatus','Peroxisomes',\n",
    "    'Endosomes','Lysosomes','Intermediate filaments','Actin filaments','Focal adhesion sites',   \n",
    "    'Microtubules','Microtubule ends',  'Cytokinetic bridge', 'Mitotic spindle','Microtubule organizing center',  \n",
    "     'Centrosome','Lipid droplets','Plasma membrane', 'Cell junctions', 'Mitochondria',\n",
    "     'Aggresome','Cytosol','Cytoplasmic bodies','Rods & rings']\n",
    "for df in df_list:\n",
    "    for col in features:\n",
    "        df[col] = df['Predicted'].apply(lambda x :1 if name_label_dict[col] in x else 0)\n",
    "for df in df_list:\n",
    "    df.fillna(0,inplace=True)       "
   ]
  },
  {
   "cell_type": "code",
   "execution_count": 7,
   "metadata": {},
   "outputs": [],
   "source": [
    "ensem_df = pd.DataFrame(columns = ['Id','Nucleoplasm','Nuclear membrane','Nucleoli',   'Nucleoli fibrillar center',\n",
    "    'Nuclear speckles','Nuclear bodies','Endoplasmic reticulum',   'Golgi apparatus','Peroxisomes',\n",
    "    'Endosomes','Lysosomes','Intermediate filaments','Actin filaments','Focal adhesion sites',   \n",
    "    'Microtubules','Microtubule ends',  'Cytokinetic bridge', 'Mitotic spindle','Microtubule organizing center',  \n",
    "     'Centrosome','Lipid droplets','Plasma membrane',  'Cell junctions', 'Mitochondria',\n",
    "     'Aggresome','Cytosol','Cytoplasmic bodies','Rods & rings','pred'])"
   ]
  },
  {
   "cell_type": "code",
   "execution_count": 8,
   "metadata": {},
   "outputs": [],
   "source": [
    "ensem_df['Id'] = df_list[0]['Id']"
   ]
  },
  {
   "cell_type": "code",
   "execution_count": 9,
   "metadata": {},
   "outputs": [],
   "source": [
    "ensem_df.fillna(0,inplace=True)"
   ]
  },
  {
   "cell_type": "code",
   "execution_count": 10,
   "metadata": {},
   "outputs": [],
   "source": [
    "for col in features:\n",
    "    for df in df_list:\n",
    "        ensem_df[col] += df[col]/len(df_list)            "
   ]
  },
  {
   "cell_type": "code",
   "execution_count": 11,
   "metadata": {},
   "outputs": [],
   "source": [
    "for col in features:\n",
    "    ensem_df[col] = ensem_df[col].apply(lambda x:1 if x>=0.5 else 0)"
   ]
  },
  {
   "cell_type": "code",
   "execution_count": 12,
   "metadata": {},
   "outputs": [
    {
     "data": {
      "text/html": [
       "<div>\n",
       "<style scoped>\n",
       "    .dataframe tbody tr th:only-of-type {\n",
       "        vertical-align: middle;\n",
       "    }\n",
       "\n",
       "    .dataframe tbody tr th {\n",
       "        vertical-align: top;\n",
       "    }\n",
       "\n",
       "    .dataframe thead th {\n",
       "        text-align: right;\n",
       "    }\n",
       "</style>\n",
       "<table border=\"1\" class=\"dataframe\">\n",
       "  <thead>\n",
       "    <tr style=\"text-align: right;\">\n",
       "      <th></th>\n",
       "      <th>Nucleoplasm</th>\n",
       "      <th>Nuclear membrane</th>\n",
       "      <th>Nucleoli</th>\n",
       "      <th>Nucleoli fibrillar center</th>\n",
       "      <th>Nuclear speckles</th>\n",
       "      <th>Nuclear bodies</th>\n",
       "      <th>Endoplasmic reticulum</th>\n",
       "      <th>Golgi apparatus</th>\n",
       "      <th>Peroxisomes</th>\n",
       "      <th>Endosomes</th>\n",
       "      <th>...</th>\n",
       "      <th>Microtubule organizing center</th>\n",
       "      <th>Centrosome</th>\n",
       "      <th>Lipid droplets</th>\n",
       "      <th>Plasma membrane</th>\n",
       "      <th>Cell junctions</th>\n",
       "      <th>Mitochondria</th>\n",
       "      <th>Aggresome</th>\n",
       "      <th>Cytosol</th>\n",
       "      <th>Cytoplasmic bodies</th>\n",
       "      <th>Rods &amp; rings</th>\n",
       "    </tr>\n",
       "  </thead>\n",
       "  <tbody>\n",
       "    <tr>\n",
       "      <th>0</th>\n",
       "      <td>0</td>\n",
       "      <td>0</td>\n",
       "      <td>1</td>\n",
       "      <td>0</td>\n",
       "      <td>0</td>\n",
       "      <td>0</td>\n",
       "      <td>0</td>\n",
       "      <td>0</td>\n",
       "      <td>0</td>\n",
       "      <td>0</td>\n",
       "      <td>...</td>\n",
       "      <td>0</td>\n",
       "      <td>0</td>\n",
       "      <td>0</td>\n",
       "      <td>0</td>\n",
       "      <td>0</td>\n",
       "      <td>0</td>\n",
       "      <td>0</td>\n",
       "      <td>0</td>\n",
       "      <td>0</td>\n",
       "      <td>0</td>\n",
       "    </tr>\n",
       "    <tr>\n",
       "      <th>1</th>\n",
       "      <td>0</td>\n",
       "      <td>0</td>\n",
       "      <td>0</td>\n",
       "      <td>0</td>\n",
       "      <td>0</td>\n",
       "      <td>1</td>\n",
       "      <td>0</td>\n",
       "      <td>0</td>\n",
       "      <td>0</td>\n",
       "      <td>0</td>\n",
       "      <td>...</td>\n",
       "      <td>0</td>\n",
       "      <td>0</td>\n",
       "      <td>0</td>\n",
       "      <td>0</td>\n",
       "      <td>0</td>\n",
       "      <td>0</td>\n",
       "      <td>0</td>\n",
       "      <td>0</td>\n",
       "      <td>0</td>\n",
       "      <td>0</td>\n",
       "    </tr>\n",
       "    <tr>\n",
       "      <th>2</th>\n",
       "      <td>1</td>\n",
       "      <td>0</td>\n",
       "      <td>0</td>\n",
       "      <td>0</td>\n",
       "      <td>0</td>\n",
       "      <td>1</td>\n",
       "      <td>0</td>\n",
       "      <td>0</td>\n",
       "      <td>0</td>\n",
       "      <td>0</td>\n",
       "      <td>...</td>\n",
       "      <td>0</td>\n",
       "      <td>0</td>\n",
       "      <td>0</td>\n",
       "      <td>0</td>\n",
       "      <td>0</td>\n",
       "      <td>0</td>\n",
       "      <td>0</td>\n",
       "      <td>1</td>\n",
       "      <td>0</td>\n",
       "      <td>0</td>\n",
       "    </tr>\n",
       "    <tr>\n",
       "      <th>3</th>\n",
       "      <td>1</td>\n",
       "      <td>0</td>\n",
       "      <td>0</td>\n",
       "      <td>0</td>\n",
       "      <td>0</td>\n",
       "      <td>0</td>\n",
       "      <td>0</td>\n",
       "      <td>0</td>\n",
       "      <td>0</td>\n",
       "      <td>0</td>\n",
       "      <td>...</td>\n",
       "      <td>0</td>\n",
       "      <td>0</td>\n",
       "      <td>0</td>\n",
       "      <td>0</td>\n",
       "      <td>0</td>\n",
       "      <td>0</td>\n",
       "      <td>0</td>\n",
       "      <td>1</td>\n",
       "      <td>0</td>\n",
       "      <td>0</td>\n",
       "    </tr>\n",
       "    <tr>\n",
       "      <th>4</th>\n",
       "      <td>0</td>\n",
       "      <td>0</td>\n",
       "      <td>0</td>\n",
       "      <td>0</td>\n",
       "      <td>0</td>\n",
       "      <td>0</td>\n",
       "      <td>0</td>\n",
       "      <td>0</td>\n",
       "      <td>0</td>\n",
       "      <td>0</td>\n",
       "      <td>...</td>\n",
       "      <td>0</td>\n",
       "      <td>0</td>\n",
       "      <td>0</td>\n",
       "      <td>0</td>\n",
       "      <td>0</td>\n",
       "      <td>0</td>\n",
       "      <td>0</td>\n",
       "      <td>1</td>\n",
       "      <td>0</td>\n",
       "      <td>0</td>\n",
       "    </tr>\n",
       "  </tbody>\n",
       "</table>\n",
       "<p>5 rows × 28 columns</p>\n",
       "</div>"
      ],
      "text/plain": [
       "   Nucleoplasm  Nuclear membrane  Nucleoli  Nucleoli fibrillar center  \\\n",
       "0            0                 0         1                          0   \n",
       "1            0                 0         0                          0   \n",
       "2            1                 0         0                          0   \n",
       "3            1                 0         0                          0   \n",
       "4            0                 0         0                          0   \n",
       "\n",
       "   Nuclear speckles  Nuclear bodies  Endoplasmic reticulum  Golgi apparatus  \\\n",
       "0                 0               0                      0                0   \n",
       "1                 0               1                      0                0   \n",
       "2                 0               1                      0                0   \n",
       "3                 0               0                      0                0   \n",
       "4                 0               0                      0                0   \n",
       "\n",
       "   Peroxisomes  Endosomes      ...       Microtubule organizing center  \\\n",
       "0            0          0      ...                                   0   \n",
       "1            0          0      ...                                   0   \n",
       "2            0          0      ...                                   0   \n",
       "3            0          0      ...                                   0   \n",
       "4            0          0      ...                                   0   \n",
       "\n",
       "   Centrosome  Lipid droplets  Plasma membrane  Cell junctions  Mitochondria  \\\n",
       "0           0               0                0               0             0   \n",
       "1           0               0                0               0             0   \n",
       "2           0               0                0               0             0   \n",
       "3           0               0                0               0             0   \n",
       "4           0               0                0               0             0   \n",
       "\n",
       "   Aggresome  Cytosol  Cytoplasmic bodies  Rods & rings  \n",
       "0          0        0                   0             0  \n",
       "1          0        0                   0             0  \n",
       "2          0        1                   0             0  \n",
       "3          0        1                   0             0  \n",
       "4          0        1                   0             0  \n",
       "\n",
       "[5 rows x 28 columns]"
      ]
     },
     "execution_count": 12,
     "metadata": {},
     "output_type": "execute_result"
    }
   ],
   "source": [
    "ensem_df[features].head()"
   ]
  },
  {
   "cell_type": "code",
   "execution_count": 13,
   "metadata": {},
   "outputs": [],
   "source": [
    "ensem_df['pred'] = ''\n",
    "ensem_df['pred'] = ensem_df['pred'].astype('str')\n",
    "for col in features:\n",
    "    ensem_df['tmp'] = ensem_df[col].apply(lambda x: ' '+str(name_label_dict[col]) if x==1 else '')    \n",
    "    ensem_df['tmp'] = ensem_df['tmp'].astype('str')\n",
    "    ensem_df['pred'] = ensem_df['pred'] +  ensem_df['tmp']"
   ]
  },
  {
   "cell_type": "code",
   "execution_count": 14,
   "metadata": {},
   "outputs": [],
   "source": [
    "ensem_df['pred'] = ensem_df['pred'].apply(lambda x: x[1:])"
   ]
  },
  {
   "cell_type": "code",
   "execution_count": 15,
   "metadata": {},
   "outputs": [
    {
     "data": {
      "text/plain": [
       "0         2\n",
       "1         5\n",
       "2    0 5 25\n",
       "3      0 25\n",
       "4        25\n",
       "Name: pred, dtype: object"
      ]
     },
     "execution_count": 15,
     "metadata": {},
     "output_type": "execute_result"
    }
   ],
   "source": [
    "ensem_df['pred'].head()"
   ]
  },
  {
   "cell_type": "code",
   "execution_count": 16,
   "metadata": {},
   "outputs": [],
   "source": [
    "ensem_df['Predicted'] = ensem_df['pred']"
   ]
  },
  {
   "cell_type": "code",
   "execution_count": 17,
   "metadata": {},
   "outputs": [],
   "source": [
    "ensem_df[['Id','Predicted']].to_csv('sub_ensem.csv',index=False)"
   ]
  },
  {
   "cell_type": "code",
   "execution_count": 18,
   "metadata": {},
   "outputs": [
    {
     "data": {
      "text/html": [
       "<div>\n",
       "<style scoped>\n",
       "    .dataframe tbody tr th:only-of-type {\n",
       "        vertical-align: middle;\n",
       "    }\n",
       "\n",
       "    .dataframe tbody tr th {\n",
       "        vertical-align: top;\n",
       "    }\n",
       "\n",
       "    .dataframe thead th {\n",
       "        text-align: right;\n",
       "    }\n",
       "</style>\n",
       "<table border=\"1\" class=\"dataframe\">\n",
       "  <thead>\n",
       "    <tr style=\"text-align: right;\">\n",
       "      <th></th>\n",
       "      <th>Id</th>\n",
       "      <th>Predicted</th>\n",
       "    </tr>\n",
       "  </thead>\n",
       "  <tbody>\n",
       "    <tr>\n",
       "      <th>0</th>\n",
       "      <td>00008af0-bad0-11e8-b2b8-ac1f6b6435d0</td>\n",
       "      <td>2</td>\n",
       "    </tr>\n",
       "    <tr>\n",
       "      <th>1</th>\n",
       "      <td>0000a892-bacf-11e8-b2b8-ac1f6b6435d0</td>\n",
       "      <td>5</td>\n",
       "    </tr>\n",
       "    <tr>\n",
       "      <th>2</th>\n",
       "      <td>0006faa6-bac7-11e8-b2b7-ac1f6b6435d0</td>\n",
       "      <td>0 5 25</td>\n",
       "    </tr>\n",
       "    <tr>\n",
       "      <th>3</th>\n",
       "      <td>0008baca-bad7-11e8-b2b9-ac1f6b6435d0</td>\n",
       "      <td>0 25</td>\n",
       "    </tr>\n",
       "    <tr>\n",
       "      <th>4</th>\n",
       "      <td>000cce7e-bad4-11e8-b2b8-ac1f6b6435d0</td>\n",
       "      <td>25</td>\n",
       "    </tr>\n",
       "  </tbody>\n",
       "</table>\n",
       "</div>"
      ],
      "text/plain": [
       "                                     Id Predicted\n",
       "0  00008af0-bad0-11e8-b2b8-ac1f6b6435d0         2\n",
       "1  0000a892-bacf-11e8-b2b8-ac1f6b6435d0         5\n",
       "2  0006faa6-bac7-11e8-b2b7-ac1f6b6435d0    0 5 25\n",
       "3  0008baca-bad7-11e8-b2b9-ac1f6b6435d0      0 25\n",
       "4  000cce7e-bad4-11e8-b2b8-ac1f6b6435d0        25"
      ]
     },
     "execution_count": 18,
     "metadata": {},
     "output_type": "execute_result"
    }
   ],
   "source": [
    "ensem_df[['Id','Predicted']].head()"
   ]
  },
  {
   "cell_type": "code",
   "execution_count": null,
   "metadata": {},
   "outputs": [],
   "source": []
  },
  {
   "cell_type": "code",
   "execution_count": null,
   "metadata": {},
   "outputs": [],
   "source": []
  }
 ],
 "metadata": {
  "kernelspec": {
   "display_name": "tensorflow",
   "language": "python",
   "name": "tensorflow"
  },
  "language_info": {
   "codemirror_mode": {
    "name": "ipython",
    "version": 3
   },
   "file_extension": ".py",
   "mimetype": "text/x-python",
   "name": "python",
   "nbconvert_exporter": "python",
   "pygments_lexer": "ipython3",
   "version": "3.6.4"
  }
 },
 "nbformat": 4,
 "nbformat_minor": 2
}
